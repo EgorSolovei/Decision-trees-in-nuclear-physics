{
  "nbformat": 4,
  "nbformat_minor": 0,
  "metadata": {
    "colab": {
      "provenance": [],
      "authorship_tag": "ABX9TyPTL8mR2QaDZKEVN7LsbjQK",
      "include_colab_link": true
    },
    "kernelspec": {
      "name": "python3",
      "display_name": "Python 3"
    },
    "language_info": {
      "name": "python"
    }
  },
  "cells": [
    {
      "cell_type": "markdown",
      "metadata": {
        "id": "view-in-github",
        "colab_type": "text"
      },
      "source": [
        "<a href=\"https://colab.research.google.com/github/EgorSolovei/Decision-trees-in-nuclear-physics/blob/main/classifier.ipynb\" target=\"_parent\"><img src=\"https://colab.research.google.com/assets/colab-badge.svg\" alt=\"Open In Colab\"/></a>"
      ]
    },
    {
      "cell_type": "code",
      "execution_count": null,
      "metadata": {
        "id": "7ZNCYLC9xVB7"
      },
      "outputs": [],
      "source": [
        "import pandas as pd\n",
        "import numpy as np\n",
        "\n",
        "from sklearn.tree import DecisionTreeClassifier\n",
        "from sklearn.ensemble import RandomForestClassifier\n",
        "from sklearn.model_selection import train_test_split"
      ]
    },
    {
      "cell_type": "code",
      "source": [
        "data = pd.read_csv('data', sep=\";\")\n",
        "data.head()"
      ],
      "metadata": {
        "id": "sXFXDuUnWdsh"
      },
      "execution_count": null,
      "outputs": []
    },
    {
      "cell_type": "code",
      "source": [
        "Y = data['какая-то колонка']\n",
        "X = data.drop['какая-то колонка']"
      ],
      "metadata": {
        "id": "Bx2t5YzrWvNP"
      },
      "execution_count": null,
      "outputs": []
    },
    {
      "cell_type": "code",
      "source": [
        "X_train, Y_train, X_test, Y_test = train_test_split(X, Y, train_size=0.7, random_state=42)"
      ],
      "metadata": {
        "id": "4nmZVWdoXtL-"
      },
      "execution_count": null,
      "outputs": []
    },
    {
      "cell_type": "markdown",
      "source": [
        "Весь этот код для теста git hub "
      ],
      "metadata": {
        "id": "FkyWFdlCYDHB"
      }
    },
    {
      "cell_type": "code",
      "source": [
        "model = DecisionTreeClassifier(max_depth=5)\n",
        "\n",
        "model.fit(X_train, Y_train)"
      ],
      "metadata": {
        "id": "iuNYNMa5eiKt"
      },
      "execution_count": null,
      "outputs": []
    },
    {
      "cell_type": "markdown",
      "source": [
        "Ещё раз для github"
      ],
      "metadata": {
        "id": "AvIFFFPQe9UY"
      }
    }
  ]
}